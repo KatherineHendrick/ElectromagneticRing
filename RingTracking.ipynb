{
 "cells": [
  {
   "cell_type": "markdown",
   "metadata": {},
   "source": [
    "# Tracking of a Rotating Ring"
   ]
  },
  {
   "cell_type": "markdown",
   "metadata": {},
   "source": [
    "In this code, we read in a set of .png images, track the location of marked particles using trackpy, extract the x- and y- location of each particle, and analyze the data."
   ]
  },
  {
   "cell_type": "code",
   "execution_count": 1,
   "metadata": {
    "collapsed": false
   },
   "outputs": [],
   "source": [
    "import numpy as np\n",
    "import pandas as pd\n",
    "from pandas import DataFrame, Series\n",
    "\n",
    "import pims\n",
    "import trackpy as tp\n",
    "import math\n",
    "\n",
    "import matplotlib as mpl\n",
    "import matplotlib.pyplot as plt\n",
    "from mpl_toolkits.mplot3d import Axes3D\n",
    "mpl.rc('image', cmap='gray')\n",
    "#%matplotlib inline\n",
    "plt.rcParams['figure.figsize'] = (20,20)\n",
    "plt.rc('legend',**{'fontsize':18})\n",
    "plt.rcParams.update({'font.size': 18})\n",
    "\n",
    "\n",
    "#calculates angular velocity based on angle and time\n",
    "def findOmega(theta, time):\n",
    "    omega = []\n",
    "    for i in range(len(theta)-1):\n",
    "        omega.append((theta[i+1]-theta[i])/(time[i+1]-time[i]))\n",
    "    return omega\n",
    "\n",
    "\n",
    "#determines the distance between any two points, given their x and y coordinates\n",
    "def PythagDist(x1, y1, x2, y2):\n",
    "    distance = []    \n",
    "    for i in range(len(x1)):\n",
    "        distance.append(math.hypot((x2[i]-x1[i]), (y2[i]-y1[i])))\n",
    "    return distance\n",
    "\n",
    "\n",
    "#calculates the midpoint between any points from their x and y coordinates\n",
    "def midpoint(x1, y1, x2, y2):\n",
    "    m = []\n",
    "    for i in range(len(x1)):\n",
    "        m.append([0.5*(x1[i]+x2[i]), 0.5*(y1[i]+y2[i])])\n",
    "    return m\n",
    "\n",
    "\n",
    "#takes any two points and returns the vector components between\n",
    "def Vectorize(x1, y1, x2, y2):\n",
    "    vector = []\n",
    "    for i in range(len(x1)):\n",
    "        vector.append([(x2[i]-x1[i]), (y2[i]-y1[i])])\n",
    "    return vector\n",
    "\n",
    "\n",
    "#finds the center of the three dots based on the distances between them\n",
    "def CenterDotFinder(dots):\n",
    "    Ax, Ay, Bx, By, Cx, Cy = dots\n",
    "    Len1 = math.hypot((Ax[0]-Bx[0]),(Ay[0]-By[0]))\n",
    "    Len2 = math.hypot((Bx[0]-Cx[0]),(By[0]-Cy[0]))\n",
    "    Len3 = math.hypot((Ax[0]-Cx[0]),(Ay[0]-Cy[0]))\n",
    "    allDist = [Len1, Len2, Len3]\n",
    "\n",
    "\n",
    "    CenterX = []\n",
    "    CenterY = []\n",
    "    A_x = []\n",
    "    A_y = []\n",
    "    B_x = []\n",
    "    B_y = []\n",
    "\n",
    "    if allDist.index(max(allDist))==0:\n",
    "        CenterX = np.array(Cx)\n",
    "        CenterY = np.array(Cy)\n",
    "        A_x = np.array(Ax)\n",
    "        A_y = np.array(Ay)\n",
    "        B_x = np.array(Bx)\n",
    "        B_y = np.array(By)\n",
    "        print('The Center Dot is Particle 2')\n",
    "    \n",
    "    elif allDist.index(max(allDist))==1:\n",
    "        CenterX = np.array(Ax)\n",
    "        CenterY = np.array(Ay)\n",
    "        A_x = np.array(Bx)\n",
    "        A_y = np.array(By)\n",
    "        B_x = np.array(Cx)\n",
    "        B_y = np.array(Cy)\n",
    "        print('The Center Dot is Particle 0')\n",
    "    \n",
    "    elif allDist.index(max(allDist))==2:\n",
    "        CenterX = np.array(Bx)\n",
    "        CenterY = np.array(By)\n",
    "        A_x = np.array(Ax)\n",
    "        A_y = np.array(Ay)\n",
    "        B_x = np.array(Cx)\n",
    "        B_y = np.array(Cy)\n",
    "        print('The Center Dot is Paritcle 1')\n",
    "    return CenterX, CenterY, A_x, A_y, B_x, B_y\n",
    "\n",
    "\n",
    "#calculates the angle of a triangle using the law of cosines\n",
    "def lawOfCosines(opp, sideA, sideB):\n",
    "    phi = []\n",
    "    for i in range(len(opp)):\n",
    "        phi.append(np.arccos((sideA[i]**2+sideB[i]**2-opp[i]**2)/(2*sideA[i]*sideB[i])))\n",
    "    return phi  \n",
    "\n",
    "\n",
    "#pulls the x and y positions of 3 dots from a tracked dataframe\n",
    "def positionFromDataframe(dataFrame):\n",
    "    Ax = []\n",
    "    Ay = []\n",
    "    Bx = []\n",
    "    By = []\n",
    "    Cx = []\n",
    "    Cy = []\n",
    "\n",
    "    for i in range(len(dataFrame.x)):\n",
    "        if dataFrame.particle[i] == 0.0:\n",
    "            Ax.append(dataFrame.x[i])\n",
    "            Ay.append(dataFrame.y[i])\n",
    "        elif dataFrame.particle[i] == 1.0:\n",
    "            Bx.append(dataFrame.x[i])\n",
    "            By.append(dataFrame.y[i])\n",
    "        elif dataFrame.particle[i] == 2.0:\n",
    "            Cx.append(dataFrame.x[i])\n",
    "            Cy.append(dataFrame.y[i])\n",
    "    return Ax, Ay, Bx, By, Cx, Cy\n",
    "\n",
    "#Centers a dot with respect to the origin\n",
    "def OriginCentered(coordinate, midpoint):\n",
    "    Centered = []\n",
    "    \n",
    "    for i in range(len(coordinate)):\n",
    "        Centered.append(coordinate[i]-midpoint[i])\n",
    "    return Centered\n",
    "\n",
    "#calculates the distance in pixels by which the center dot 'wobbles' across the center line\n",
    "def wobbleDistance(side, angle, VectorA, VectorB):\n",
    "    sign = []\n",
    "    distance = []\n",
    "    for i in range(len(side)):\n",
    "        sign.append(np.sign(np.cross(VectorA[i], VectorB[i])))\n",
    "        distance.append(sign[i]*(side[i]*np.sin(angle[i])))\n",
    "    return distance\n",
    "\n",
    "#determines angle of the ring's wobble based on a given wobble distance and ring diameter (units must match)\n",
    "def wobbleAngle(distance, ringDiameter):\n",
    "    angle = [] \n",
    "    for i in range(len(distance)):\n",
    "        angle.append(np.arcsin(distance[i]/ringDiameter))\n",
    "    return angle"
   ]
  },
  {
   "cell_type": "markdown",
   "metadata": {},
   "source": [
    "## Variable Parameters"
   ]
  },
  {
   "cell_type": "markdown",
   "metadata": {},
   "source": [
    "After importing all of the packages needed for this code and defining any needed functions, we need to specify the path to the individual images to be analyzed, as well as the paths for saving out the batched and linked particles.  We also must define some parameters for trackpy.  These parameters are used throughout the code."
   ]
  },
  {
   "cell_type": "code",
   "execution_count": 2,
   "metadata": {
    "collapsed": true
   },
   "outputs": [],
   "source": [
    "fileNameIn = '5MinVid/image*.png' #folder and names of the png files to be analyzed\n",
    "batchedFileName = '5MinVidBatched.csv'\n",
    "trackingFileName = '5MinVidTracked.csv'\n",
    "\n",
    "sphereSize = 25 #expected size in pixels: err on high side\n",
    "sphereMass = 1000 #minimum colormass \n",
    "pixelsMoved = 40 #expected max number of pixels to move per frame\n",
    "frameNumber = 2 #individual frame number for testing\n",
    "trackingStartFrame = 0 #frame number to start tracking\n",
    "trackingEndFrame = -1 #frame number to end tracking\n",
    "stubLength = 1 #number of frames a particle must be present for\n",
    "memorytime = 250\n",
    "\n",
    "videoFrameRate = 40 #in fps"
   ]
  },
  {
   "cell_type": "markdown",
   "metadata": {},
   "source": [
    "Here, we read in the individual images (in greyscale) from png files. The path is defined earlier as 'fileNameIn.' We also see some basic information about the image sequence.  As a test, we can see what particles trackpy finds in a given frame.  We can use information in this cell to narrow our parameters above."
   ]
  },
  {
   "cell_type": "code",
   "execution_count": 3,
   "metadata": {
    "collapsed": false
   },
   "outputs": [
    {
     "name": "stdout",
     "output_type": "stream",
     "text": [
      "<Frames>\n",
      "Source: /home/katherine/Documents/Git/ElectromagneticRing/5MinVid/image*.png\n",
      "Length: 11998 frames\n",
      "Frame Shape: (728, 1024, 3)\n",
      "Pixel Datatype: uint8\n"
     ]
    },
    {
     "data": {
      "text/html": [
       "<div>\n",
       "<table border=\"1\" class=\"dataframe\">\n",
       "  <thead>\n",
       "    <tr style=\"text-align: right;\">\n",
       "      <th></th>\n",
       "      <th>x</th>\n",
       "      <th>y</th>\n",
       "      <th>mass</th>\n",
       "      <th>size</th>\n",
       "      <th>ecc</th>\n",
       "      <th>signal</th>\n",
       "      <th>raw_mass</th>\n",
       "      <th>ep</th>\n",
       "      <th>frame</th>\n",
       "    </tr>\n",
       "  </thead>\n",
       "  <tbody>\n",
       "    <tr>\n",
       "      <th>0</th>\n",
       "      <td>519.757412</td>\n",
       "      <td>141.318118</td>\n",
       "      <td>11145.932644</td>\n",
       "      <td>7.471054</td>\n",
       "      <td>0.103801</td>\n",
       "      <td>39.164813</td>\n",
       "      <td>14440.0</td>\n",
       "      <td>0.004207</td>\n",
       "      <td>2</td>\n",
       "    </tr>\n",
       "    <tr>\n",
       "      <th>1</th>\n",
       "      <td>516.374342</td>\n",
       "      <td>333.493625</td>\n",
       "      <td>33671.667814</td>\n",
       "      <td>7.922908</td>\n",
       "      <td>0.015971</td>\n",
       "      <td>95.114545</td>\n",
       "      <td>43649.0</td>\n",
       "      <td>0.001381</td>\n",
       "      <td>2</td>\n",
       "    </tr>\n",
       "    <tr>\n",
       "      <th>2</th>\n",
       "      <td>534.080821</td>\n",
       "      <td>581.172106</td>\n",
       "      <td>12262.316300</td>\n",
       "      <td>7.426777</td>\n",
       "      <td>0.093232</td>\n",
       "      <td>46.624777</td>\n",
       "      <td>16022.0</td>\n",
       "      <td>0.003787</td>\n",
       "      <td>2</td>\n",
       "    </tr>\n",
       "  </tbody>\n",
       "</table>\n",
       "</div>"
      ],
      "text/plain": [
       "            x           y          mass      size       ecc     signal  \\\n",
       "0  519.757412  141.318118  11145.932644  7.471054  0.103801  39.164813   \n",
       "1  516.374342  333.493625  33671.667814  7.922908  0.015971  95.114545   \n",
       "2  534.080821  581.172106  12262.316300  7.426777  0.093232  46.624777   \n",
       "\n",
       "   raw_mass        ep  frame  \n",
       "0   14440.0  0.004207      2  \n",
       "1   43649.0  0.001381      2  \n",
       "2   16022.0  0.003787      2  "
      ]
     },
     "execution_count": 3,
     "metadata": {},
     "output_type": "execute_result"
    }
   ],
   "source": [
    "frames = pims.ImageSequence(fileNameIn, as_grey=True)\n",
    "print(frames)\n",
    "\n",
    "f = tp.locate(frames[frameNumber], sphereSize, minmass = sphereMass)\n",
    "f.head()"
   ]
  },
  {
   "cell_type": "markdown",
   "metadata": {},
   "source": [
    "As another check before running the entire image sequence through trackpy, we show the image with the 'found' circles overlayed.  This helps identify any unintentional particles, and help with the filtering."
   ]
  },
  {
   "cell_type": "code",
   "execution_count": 4,
   "metadata": {
    "collapsed": false
   },
   "outputs": [
    {
     "data": {
      "text/plain": [
       "<matplotlib.axes._subplots.AxesSubplot at 0x7f66bbbf26a0>"
      ]
     },
     "execution_count": 4,
     "metadata": {},
     "output_type": "execute_result"
    }
   ],
   "source": [
    "plt.figure()\n",
    "tp.annotate(f, frames[frameNumber])"
   ]
  },
  {
   "cell_type": "markdown",
   "metadata": {},
   "source": [
    "If we are satisfied with our parameters, we can proceed.  The next cell locates objects in a range of frames, with a given minimum size and colormass.  It also saves the dataframe to a csv file, which can be read in later to avoid having to batch an image sequence multiple times.\n",
    "### Warning : This can take quite a long time, depending on the length of the image sequence, minmass, and sphere size!  Don't run it unless you REALLY mean it."
   ]
  },
  {
   "cell_type": "markdown",
   "metadata": {
    "collapsed": false
   },
   "source": [
    "```python\n",
    "f = tp.batch(frames[trackingStartFrame:trackingEndFrame], sphereSize, minmass = sphereMass)\n",
    "f.to_csv(batchedFileName)\n",
    "```"
   ]
  },
  {
   "cell_type": "markdown",
   "metadata": {
    "collapsed": false
   },
   "source": [
    "```python\n",
    "f = pd.read_csv(batchedFileName)\n",
    "t = tp.link_df(f, pixelsMoved, memory=memorytime)\n",
    "\n",
    "#links the trajectories for all particles.\n",
    "#The user must provide a max number of pixels an object is expected to move.\n",
    "\n",
    "t.to_csv(trackingFileName)\n",
    "```"
   ]
  },
  {
   "cell_type": "markdown",
   "metadata": {},
   "source": [
    "Here we plot the trajectories of all particles."
   ]
  },
  {
   "cell_type": "code",
   "execution_count": 5,
   "metadata": {
    "collapsed": false
   },
   "outputs": [],
   "source": [
    "t = pd.read_csv(trackingFileName)\n",
    "plt.figure()\n",
    "tp.plot_traj(t)\n",
    "plt.show()\n",
    "#shows the trajectories of the particles"
   ]
  },
  {
   "cell_type": "markdown",
   "metadata": {},
   "source": [
    "As necessary, we can filter the trajectories and eliminate any short 'stubs' until we have the desired number of trajectories."
   ]
  },
  {
   "cell_type": "markdown",
   "metadata": {
    "collapsed": false
   },
   "source": [
    "```python\n",
    "t1 = tp.filter_stubs(t, stubLength)\n",
    "# Compare the number of particles in the unfiltered and filtered data.\n",
    "print('Before Filtering:', t['particle'].nunique())\n",
    "print('After Filtering:', t1['particle'].nunique())\n",
    "```"
   ]
  },
  {
   "cell_type": "markdown",
   "metadata": {},
   "source": [
    "## Data Analysis"
   ]
  },
  {
   "cell_type": "markdown",
   "metadata": {},
   "source": [
    "The first bit of data analysis pulls the position and particle data from the dataframe and identifies which of the three particles is the center.  Once the center is defined, we calculate the midpoint between the outer two dots.  The last part of this basic analysis gives us a list of times for each position."
   ]
  },
  {
   "cell_type": "code",
   "execution_count": 6,
   "metadata": {
    "collapsed": false,
    "scrolled": false
   },
   "outputs": [
    {
     "name": "stdout",
     "output_type": "stream",
     "text": [
      "The Center Dot is Paritcle 1\n"
     ]
    }
   ],
   "source": [
    "#selects position data from dataframe\n",
    "positions = positionFromDataframe(t)\n",
    "RawAx, RawAy, RawBx, RawBy, RawCx, RawCy = positions \n",
    "\n",
    "#identifies center dot, assigns other two to A and B\n",
    "CenterDot = CenterDotFinder(positions)\n",
    "CenterX, CenterY, A_x, A_y, B_x, B_y = CenterDot\n",
    "\n",
    "#calculates the midpoint between point A and point B\n",
    "midpointCoordinates = np.array(midpoint(A_x, A_y, B_x, B_y))\n",
    "midpoint_x = midpointCoordinates[: ,0]\n",
    "midpoint_y = midpointCoordinates[: ,1]\n",
    "\n",
    "#calculates the distance between all dots in pixels, where C is the center dot.\n",
    "AB = PythagDist(A_x, A_y, B_x, B_y)\n",
    "AC = PythagDist(A_x, A_y, CenterX, CenterY)\n",
    "BC = PythagDist(B_x, B_y, CenterX, CenterY)\n",
    "\n",
    "#calculates the angle between vector AC and AB: result in radians\n",
    "AngleCAB = lawOfCosines(BC, AC, AB)\n",
    "\n",
    "\n",
    "#calculates the timestep for any image based on a known frame rate\n",
    "time = []\n",
    "for i in range(len(A_x)):\n",
    "    time.append(i*(1/videoFrameRate))"
   ]
  },
  {
   "cell_type": "markdown",
   "metadata": {},
   "source": [
    "Now that we have the position extracted, we can plot the angular position of the dots.  First, we  calculate the angle using the arctan function, where $\\theta = tan^{-1}( \\frac{y}{x})$.  As this gives us a result bounded by $- \\pi$ and $\\pi$, we must 'unwrap' the function, allowing the display of multiple revolutions.  "
   ]
  },
  {
   "cell_type": "code",
   "execution_count": 7,
   "metadata": {
    "collapsed": false
   },
   "outputs": [],
   "source": [
    "rawThetaA = []\n",
    "rawThetaB = []\n",
    "\n",
    "thetaACentered = []\n",
    "thetaBCentered = []\n",
    "\n",
    "for i in range(len(A_y)):\n",
    "    rawThetaA.append(np.arctan2(A_y[i], A_x[i]))\n",
    "    rawThetaB.append(np.arctan2(B_y[i], B_x[i]))\n",
    "    thetaACentered.append(np.arctan2((A_y[i]-midpoint_y[i]), (A_x[i]-midpoint_x[i])))\n",
    "    thetaBCentered.append(np.arctan2((B_y[i]-midpoint_y[i]), (B_x[i]-midpoint_x[i])))\n",
    "    \n",
    "#the above gives us a result bounded by -pi and pi.  Below, we must 'unwrap' the angle.\n",
    "\n",
    "theta_A = []\n",
    "theta_B = []\n",
    "j=0\n",
    "for i in range(len(thetaACentered)):\n",
    "    if thetaACentered[i]-thetaACentered[i-1]>np.pi:\n",
    "        j-=(2*np.pi)\n",
    "    elif thetaACentered[i]-thetaACentered[i-1]<-(np.pi):\n",
    "        j+=(2*np.pi)\n",
    "    theta_A.append(thetaACentered[i]+j)\n",
    "k=0\n",
    "for i in range(len(thetaBCentered)):\n",
    "    if thetaBCentered[i]-thetaBCentered[i-1]>np.pi:\n",
    "        k-=(2*np.pi)\n",
    "    elif thetaBCentered[i]-thetaBCentered[i-1]<-np.pi:\n",
    "        k+=(2*np.pi)\n",
    "    theta_B.append(thetaBCentered[i]+k)\n",
    "    \n",
    "    \n",
    "plt.plot(time, theta_A, label='Dot A')\n",
    "plt.plot(time, theta_B, label='Dot B')\n",
    "plt.xlabel('time (s)', fontsize = 18)\n",
    "plt.ylabel('Theta( rad)', fontsize = 18)\n",
    "plt.title('Theta vs time', fontsize = 24)\n",
    "plt.legend(loc = \"upper right\")\n",
    "plt.show()"
   ]
  },
  {
   "cell_type": "markdown",
   "metadata": {},
   "source": [
    "From angular position, we can then find the angular velocity."
   ]
  },
  {
   "cell_type": "code",
   "execution_count": 8,
   "metadata": {
    "collapsed": false
   },
   "outputs": [],
   "source": [
    "omega_A = findOmega(theta_A, time)\n",
    "omega_B = findOmega(theta_B, time)\n",
    "\n",
    "\n",
    "plt.plot(time[0:-1], omega_A)\n",
    "plt.plot(time[0:-1], omega_B)\n",
    "plt.show()\n",
    "\n",
    "plt.plot(omega_A, theta_A[0:-1])\n",
    "plt.xlabel('Theta')\n",
    "plt.ylabel('Omega')\n",
    "plt.title('Phase Space Plot for Dot A')\n",
    "plt.show()"
   ]
  },
  {
   "cell_type": "markdown",
   "metadata": {},
   "source": [
    "## More Analysis\n",
    "\n",
    "Now that we have the pendulum oscillation subtracted from the ring's movement, we can begin to find the subtle 'wobble' and 'rocking' oscillations (where rocking is the ring oscillating as if it were balanced on one edge and rocked, and wobbling is the oscillation perpendicular to that in the x-y plane).\n",
    "\n",
    "To calculate wobble, we find the distance the center dot moves from the line AB, determine which side of the line it is on using the sign of the cross product, and calculate the angle through which it rotates (as measured from the torsion fiber attachment point)."
   ]
  },
  {
   "cell_type": "code",
   "execution_count": 9,
   "metadata": {
    "collapsed": false
   },
   "outputs": [],
   "source": []
  },
  {
   "cell_type": "code",
   "execution_count": 10,
   "metadata": {
    "collapsed": false
   },
   "outputs": [],
   "source": [
    "\n"
   ]
  },
  {
   "cell_type": "code",
   "execution_count": 11,
   "metadata": {
    "collapsed": false
   },
   "outputs": [],
   "source": [
    "def rocking(Ax, Ay, Bx, By, Mx, My, radius):\n",
    "    AM = []\n",
    "    BM = []\n",
    "    rockDist = []\n",
    "    angle = []\n",
    "    for i in range(len(Bx)):\n",
    "        AM.append(math.hypot((Ax[i]-Mx[i]), (Ay[i]-My[i])))\n",
    "        BM.append(math.hypot((Bx[i]-Mx[i]), (By[i]-My[i])))\n",
    "        rockDist.append(radius-(AM[i]))\n",
    "        angle.append(np.arccos(AM[i]/radius))\n",
    "    return rockDist, angle\n"
   ]
  },
  {
   "cell_type": "code",
   "execution_count": 12,
   "metadata": {
    "collapsed": false
   },
   "outputs": [
    {
     "name": "stdout",
     "output_type": "stream",
     "text": [
      "Maximum Diameter is 444.519073 pixels\n"
     ]
    }
   ],
   "source": [
    "HorizontalDistance = []\n",
    "for i in range(len(A_x)):\n",
    "    HorizontalDistance.append(math.hypot((B_x[i]-A_x[i]),(B_y[i]-A_y[i])))\n",
    "print(\"Maximum Diameter is %f pixels\" %(max(HorizontalDistance)))\n",
    "\n",
    "radius = 0.5*max(HorizontalDistance)\n",
    "rockingDistance, rockingAngle = rocking(A_x, A_y, B_x, B_y, midpoint_x, midpoint_y, radius)"
   ]
  },
  {
   "cell_type": "code",
   "execution_count": 13,
   "metadata": {
    "collapsed": false
   },
   "outputs": [],
   "source": [
    "plt.plot(time, wobbleTheta)\n",
    "#plt.plot(time, rockingAngle)\n",
    "plt.title('Wobble Angle vs. Time')\n",
    "plt.xlabel('Time (s)')\n",
    "plt.ylabel('Angle (radians)')\n",
    "plt.show()\n",
    "#plt.plot(time, rockingDistance)"
   ]
  },
  {
   "cell_type": "code",
   "execution_count": 14,
   "metadata": {
    "collapsed": true
   },
   "outputs": [],
   "source": [
    "AxCentered = OriginCentered(A_x, midpoint_x)\n",
    "AyCentered = OriginCentered(A_y, midpoint_y)\n",
    "BxCentered = OriginCentered(B_x, midpoint_x)\n",
    "ByCentered = OriginCentered(B_y, midpoint_y)\n",
    "CxCentered = OriginCentered(CenterX, midpoint_x)\n",
    "CyCentered = OriginCentered(CenterY, midpoint_y)"
   ]
  },
  {
   "cell_type": "code",
   "execution_count": 27,
   "metadata": {
    "collapsed": false
   },
   "outputs": [
    {
     "name": "stdout",
     "output_type": "stream",
     "text": [
      "[-1.367304576872296, -1.4806994444868937, -1.603348831667881, -1.7218375678625102, -1.8416693467313561]\n",
      "[1.7742880767174976, 1.6608932091028998, 1.5382438219219117, 1.4197550857272832, 1.2999233068584373]\n"
     ]
    }
   ],
   "source": [
    "print(theta_A[0:5])\n",
    "print(theta_B[0:5])"
   ]
  },
  {
   "cell_type": "code",
   "execution_count": 35,
   "metadata": {
    "collapsed": true
   },
   "outputs": [],
   "source": [
    "rockXA = []\n",
    "rockYA = []\n",
    "rockXB = []\n",
    "rockYB = []\n",
    "\n",
    "for i in range(len(rockingDistance)):\n",
    "    rockXA.append(rockingDistance[i]*np.cos(theta_A[i]))\n",
    "    rockYA.append(rockingDistance[i]*np.sin(theta_A[i]))\n",
    "    rockXB.append(rockingDistance[i]*np.cos(theta_B[i]))\n",
    "    rockYB.append(rockingDistance[i]*np.sin(theta_B[i]))\n",
    "\n",
    "AxNoRock = []\n",
    "AyNoRock = []\n",
    "BxNoRock = []\n",
    "ByNoRock = []\n",
    "CxNoRock = []\n",
    "CyNoRock = []\n",
    "\n",
    "for i in range(len(rockingDistance)):\n",
    "    AxNoRock.append(AxCentered[i]+rockXA[i])\n",
    "    AyNoRock.append(AyCentered[i]+rockYA[i])\n",
    "    BxNoRock.append(BxCentered[i]+rockXB[i])\n",
    "    ByNoRock.append(ByCentered[i]+rockYB[i])\n",
    "    CxNoRock.append(CyCentered[i]+)\n",
    "    CyNoRock.append"
   ]
  },
  {
   "cell_type": "code",
   "execution_count": 34,
   "metadata": {
    "collapsed": false
   },
   "outputs": [],
   "source": [
    "plt.plot(AyNoRock, AxNoRock)\n",
    "plt.plot(ByNoRock, BxNoRock)\n",
    "#plt.plot(ByCentered, BxCentered)\n",
    "#plt.plot(CyCentered, CxCentered)\n",
    "plt.show()"
   ]
  },
  {
   "cell_type": "code",
   "execution_count": null,
   "metadata": {
    "collapsed": true
   },
   "outputs": [],
   "source": [
    "\n",
    "\n",
    "#calculates the distance in pixels by which the center dot 'wobbles' across the center line\n",
    "def wobbleDistance(VectorA, VectorB):\n",
    "    sign = []\n",
    "    theta = []\n",
    "    distance = []\n",
    "    for i in range(len(VectorA)):\n",
    "        sign.append(np.sign(np.cross(VectorA[i], VectorB[i])))\n",
    "        theta.append(np.arccos(np.dot(VectorA[i], VectorB[i])/(AB[i]*AC[i])))\n",
    "        distance.append(sign[i]*(AC[i]*np.sin(theta[i])))\n",
    "    return distance\n",
    "\n",
    "#determines angle of the ring's wobble based on a given wobble distance and ring diameter (units must match)\n",
    "def wobbleAngle(distance, ringDiameter):\n",
    "    angle = [] \n",
    "    for i in range(len(distance)):\n",
    "        angle.append(np.arcsin((2*distance[i])/ringDiameter))\n",
    "    return angle"
   ]
  },
  {
   "cell_type": "code",
   "execution_count": null,
   "metadata": {
    "collapsed": true
   },
   "outputs": [],
   "source": [
    "ABVector = Vectorize(A_x, A_y, B_x, B_y)\n",
    "ACVector = Vectorize(A_x, A_y, CenterX, CenterY)\n",
    "WobbleDist = wobbleDistance(ABVector, ACVector)\n",
    "wobbleTheta = wobbleAngle(WobbleDist, max(AB))"
   ]
  },
  {
   "cell_type": "markdown",
   "metadata": {},
   "source": [
    "The next cell represents the phase space plot over time, in a 3-d graph.  It just looks super neat!"
   ]
  },
  {
   "cell_type": "code",
   "execution_count": 21,
   "metadata": {
    "collapsed": false
   },
   "outputs": [],
   "source": [
    "plt.plot(time, rockingDistance)\n",
    "plt.show()"
   ]
  },
  {
   "cell_type": "code",
   "execution_count": null,
   "metadata": {
    "collapsed": false
   },
   "outputs": [],
   "source": [
    "fig = plt.figure()\n",
    "ax = fig.gca(projection='3d')\n",
    "ax.plot(omega_A, theta_A[0:-1], time[0:-1], label='Dot A')\n",
    "ax.plot(omega_B, theta_B[0:-1], time[0:-1], label= 'Dot B')\n",
    "#ax.plot(CenterX, CenterY, time, label = 'Center Dot')\n",
    "ax.set_xlabel('X Position')\n",
    "ax.set_ylabel('Y Position')\n",
    "ax.set_zlabel('time (sec)')\n",
    "\n",
    "ax.legend()\n",
    "\n",
    "plt.show()\n"
   ]
  },
  {
   "cell_type": "code",
   "execution_count": null,
   "metadata": {
    "collapsed": false
   },
   "outputs": [],
   "source": [
    "MeanPositionUncertainty = t['ep'].mean()\n",
    "MaxPositionUncertainty = t['ep'].max()\n",
    "MedianPositionUncertainty = t['ep'].median()\n",
    "\n",
    "print (\"Average Uncertainty in Position: %f pixels\" %(MeanPositionUncertainty))\n",
    "print (\"Maximum Uncertainty in Position: %f pixels\" %(MaxPositionUncertainty))\n",
    "print (\"Median Uncertainty in Position: %f pixels\" %(MedianPositionUncertainty))\n",
    "\n",
    "\n"
   ]
  },
  {
   "cell_type": "code",
   "execution_count": null,
   "metadata": {
    "collapsed": false
   },
   "outputs": [],
   "source": [
    "plt.plot(A_x-midpoint_x, A_y-midpoint_y)\n",
    "plt.plot(B_x-midpoint_x, B_y-midpoint_y)\n",
    "plt.show()"
   ]
  },
  {
   "cell_type": "code",
   "execution_count": null,
   "metadata": {
    "collapsed": true
   },
   "outputs": [],
   "source": []
  }
 ],
 "metadata": {
  "anaconda-cloud": {},
  "kernelspec": {
   "display_name": "Python [Root]",
   "language": "python",
   "name": "Python [Root]"
  },
  "language_info": {
   "codemirror_mode": {
    "name": "ipython",
    "version": 3
   },
   "file_extension": ".py",
   "mimetype": "text/x-python",
   "name": "python",
   "nbconvert_exporter": "python",
   "pygments_lexer": "ipython3",
   "version": "3.5.1"
  }
 },
 "nbformat": 4,
 "nbformat_minor": 0
}
